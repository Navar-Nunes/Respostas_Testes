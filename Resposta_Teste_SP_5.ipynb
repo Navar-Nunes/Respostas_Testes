{
  "nbformat": 4,
  "nbformat_minor": 0,
  "metadata": {
    "colab": {
      "provenance": []
    },
    "kernelspec": {
      "name": "python3",
      "display_name": "Python 3"
    },
    "language_info": {
      "name": "python"
    }
  },
  "cells": [
    {
      "cell_type": "code",
      "execution_count": 2,
      "metadata": {
        "id": "3U0e8PgRMD_j",
        "colab": {
          "base_uri": "https://localhost:8080/"
        },
        "outputId": "ae7f219a-dc3b-438c-e951-cb4af7d31b75"
      },
      "outputs": [
        {
          "output_type": "stream",
          "name": "stdout",
          "text": [
            "Digite uma string: 3 4 8 55 98 48 57 5 ibesto 499 testudo nove quaro\n",
            "String invertida: orauq evon odutset 994 otsebi 5 75 84 89 55 8 4 3\n"
          ]
        }
      ],
      "source": [
        "import numpy as np\n",
        "import matplotlib.pyplot as plt\n",
        "import time\n",
        "import math\n",
        "import json\n",
        "import csv\n",
        "#from google.colab import files\n",
        "#uploaded = files.upload()\n",
        "#import pickle\n",
        "\n",
        "\n",
        "# Inicia a contagem de tempo\n",
        "start_time = time.time()\n",
        "\n",
        "# Funcoes iniciais\n",
        "\n",
        "def invert(texto):\n",
        "    stringo = ''\n",
        "    for i in range(len(texto) - 1, -1, -1):\n",
        "        stringo += texto[i]\n",
        "    return stringo\n",
        "\n",
        "\n",
        "texto = input(\"Digite uma string: \")\n",
        "texto_invertido = invert(texto)\n",
        "print(f\"String invertida: {texto_invertido}\")\n"
      ]
    }
  ]
}