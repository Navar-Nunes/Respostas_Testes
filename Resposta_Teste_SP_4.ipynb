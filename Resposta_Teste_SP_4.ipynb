{
  "nbformat": 4,
  "nbformat_minor": 0,
  "metadata": {
    "colab": {
      "provenance": []
    },
    "kernelspec": {
      "name": "python3",
      "display_name": "Python 3"
    },
    "language_info": {
      "name": "python"
    }
  },
  "cells": [
    {
      "cell_type": "code",
      "execution_count": 1,
      "metadata": {
        "id": "3U0e8PgRMD_j",
        "colab": {
          "base_uri": "https://localhost:8080/"
        },
        "outputId": "d9f6722a-a2e1-4aae-f2d1-c99bfaae7c6f"
      },
      "outputs": [
        {
          "output_type": "stream",
          "name": "stdout",
          "text": [
            "SP: 37.53%\n",
            "RJ: 20.29%\n",
            "MG: 16.17%\n",
            "ES: 15.03%\n",
            "Outros: 10.98%\n"
          ]
        }
      ],
      "source": [
        "import numpy as np\n",
        "import matplotlib.pyplot as plt\n",
        "import time\n",
        "import math\n",
        "import json\n",
        "import csv\n",
        "#from google.colab import files\n",
        "#uploaded = files.upload()\n",
        "#import pickle\n",
        "\n",
        "\n",
        "# Inicia a contagem de tempo\n",
        "start_time = time.time()\n",
        "\n",
        "# Funcoes iniciais\n",
        "\n",
        "def calc_per(fat_estados):\n",
        "\n",
        "    total_fat = sum(fat_estados.values())\n",
        "\n",
        "    # Calcula o percentual de cada estado\n",
        "    per_estados = {estado: (valor / total_fat) * 100 for estado, valor in fat_estados.items()}\n",
        "\n",
        "    return per_estados\n",
        "\n",
        "# Faturamento mensal por estado (em R$)\n",
        "fat_estados1 = {\"SP\": 67836.43, \"RJ\": 36678.66, \"MG\": 29229.88, \"ES\": 27165.48, \"Outros\": 19849.53}\n",
        "\n",
        "# Calcula o percentual de cada estado\n",
        "percentual = calc_per(fat_estados1)\n",
        "\n",
        "# Exibe o resultado\n",
        "for estado, perc in percentual.items():\n",
        "    print(f\"{estado}: {perc:.2f}%\")\n",
        "\n",
        "\n",
        "\n"
      ]
    }
  ]
}