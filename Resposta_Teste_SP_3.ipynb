{
  "nbformat": 4,
  "nbformat_minor": 0,
  "metadata": {
    "colab": {
      "provenance": []
    },
    "kernelspec": {
      "name": "python3",
      "display_name": "Python 3"
    },
    "language_info": {
      "name": "python"
    }
  },
  "cells": [
    {
      "cell_type": "code",
      "execution_count": 3,
      "metadata": {
        "id": "3U0e8PgRMD_j",
        "colab": {
          "base_uri": "https://localhost:8080/"
        },
        "outputId": "d745de01-0e1b-4dc2-cfe8-7ef3aeceb493"
      },
      "outputs": [
        {
          "output_type": "stream",
          "name": "stdout",
          "text": [
            "Menor faturamento: R$ 800.00\n",
            "Maior faturamento: R$ 2000.00\n",
            "Número de dias com faturamento acima da média: 11\n",
            "Número de dias com faturamento abaixo da média: 19\n"
          ]
        }
      ],
      "source": [
        "import numpy as np\n",
        "import matplotlib.pyplot as plt\n",
        "import time\n",
        "import math\n",
        "import json\n",
        "import csv\n",
        "#from google.colab import files\n",
        "#uploaded = files.upload()\n",
        "#import pickle\n",
        "\n",
        "\n",
        "# Inicia a contagem de tempo\n",
        "start_time = time.time()\n",
        "\n",
        "# Funcoes iniciais\n",
        "\n",
        "def calcular_fat(fat_diario):\n",
        "\n",
        "    # Remove os dias onde o faturamento se iguala a zero\n",
        "    fat_valido = [valor for valor in fat_diario if valor > 0]\n",
        "\n",
        "    menor_fat = min(fat_valido)\n",
        "    maior_fat = max(fat_valido)\n",
        "\n",
        "    media = sum(fat_valido) / len(fat_valido)\n",
        "\n",
        "    # Conta o número de dias com faturamento acima da média mensal\n",
        "    dias_acima_media = sum(1 for valor in fat_diario if valor > media)\n",
        "    dias_abaixo_media = sum(1 for valor in fat_diario if valor < media)\n",
        "\n",
        "    return menor_fat, maior_fat, dias_acima_media, dias_abaixo_media\n",
        "\n",
        "\n",
        "faturamento_diario = [ 1200.0, 0, 1350.0, 0, 1450.0, 1500.0, 0, 1100.0, 800.0, 1250.0, 0, 1700.0, 0, 1400.0, 1600.0, 1800.0, 900.0, 0, 1150.0, 1600.0, 1400.0, 0, 1300.0, 1500.0, 0, 2000.0, 1350.0, 0, 1400.0, 1250.0]\n",
        "\n",
        "#Como o código foi feito com o Google Colab, essa parte do codigo pode precisar de uma codificacao diferente dependendo de onde for rodado\n",
        "#Por motivos de teste, um vetor foi criado acima e essa parte comentada\n",
        "#with open('dados.json', 'r') as file:\n",
        "#    faturamento_diario = next(iter(uploaded.values()))\n",
        "\n",
        "menor1, maior1, dias_acima_media1, dias_abaixo_media1 = calcular_fat(faturamento_diario)\n",
        "\n",
        "print(f\"Menor faturamento: R$ {menor1:.2f}\")\n",
        "print(f\"Maior faturamento: R$ {maior1:.2f}\")\n",
        "print(f\"Número de dias com faturamento acima da média: {dias_acima_media1}\")\n",
        "print(f\"Número de dias com faturamento abaixo da média: {dias_abaixo_media1}\")\n",
        "\n",
        "\n"
      ]
    }
  ]
}