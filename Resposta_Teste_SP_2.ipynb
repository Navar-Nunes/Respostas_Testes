{
  "nbformat": 4,
  "nbformat_minor": 0,
  "metadata": {
    "colab": {
      "provenance": []
    },
    "kernelspec": {
      "name": "python3",
      "display_name": "Python 3"
    },
    "language_info": {
      "name": "python"
    }
  },
  "cells": [
    {
      "cell_type": "code",
      "execution_count": 5,
      "metadata": {
        "id": "3U0e8PgRMD_j",
        "colab": {
          "base_uri": "https://localhost:8080/"
        },
        "outputId": "025a603d-58bb-4f96-c12e-7625a1e623c2"
      },
      "outputs": [
        {
          "output_type": "stream",
          "name": "stdout",
          "text": [
            "O número 48 NÃO pertence à sequência de Fibonacci.\n"
          ]
        }
      ],
      "source": [
        "import numpy as np\n",
        "import matplotlib.pyplot as plt\n",
        "import time\n",
        "import math\n",
        "#import pickle\n",
        "\n",
        "\n",
        "# Inicia a contagem de tempo\n",
        "start_time = time.time()\n",
        "\n",
        "# Funcoes iniciais\n",
        "\n",
        "# Gera a sequência de Fibonacci até o número n\n",
        "def fibonacci(n):\n",
        "\n",
        "    fibbo = [0, 1]\n",
        "\n",
        "    while fibbo[-1] < n:\n",
        "        fibbo.append(fibbo[-1] + fibbo[-2])\n",
        "    return fibbo\n",
        "\n",
        "\n",
        "# Verifica se o número informado está nela\n",
        "def pertence_fibo(n):\n",
        "\n",
        "    fibbo_1 = fibonacci(n)\n",
        "\n",
        "    if n in fibbo_1:\n",
        "        return f\"O número {n} pertence à sequência de Fibonacci.\"\n",
        "    else:\n",
        "        return f\"O número {n} NÃO pertence à sequência de Fibonacci.\"\n",
        "\n",
        "\n",
        "numero = 48\n",
        "\n",
        "resultado = pertence_fibo(numero)\n",
        "\n",
        "print(resultado)\n",
        "\n"
      ]
    }
  ]
}